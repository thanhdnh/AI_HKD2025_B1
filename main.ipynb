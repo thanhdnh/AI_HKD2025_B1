{
 "cells": [
  {
   "cell_type": "code",
   "execution_count": null,
   "metadata": {},
   "outputs": [],
   "source": [
    "pip install simpleai"
   ]
  },
  {
   "cell_type": "code",
   "execution_count": null,
   "metadata": {},
   "outputs": [],
   "source": [
    "pip install --upgrade pip"
   ]
  },
  {
   "cell_type": "code",
   "execution_count": null,
   "metadata": {},
   "outputs": [],
   "source": [
    "pip install numpy"
   ]
  },
  {
   "cell_type": "code",
   "execution_count": null,
   "metadata": {},
   "outputs": [],
   "source": [
    "pip install matplotlib"
   ]
  },
  {
   "cell_type": "code",
   "execution_count": null,
   "metadata": {},
   "outputs": [],
   "source": [
    "pip install scikit-learn"
   ]
  },
  {
   "cell_type": "code",
   "execution_count": null,
   "metadata": {},
   "outputs": [],
   "source": [
    "pip install pytorch"
   ]
  },
  {
   "cell_type": "code",
   "execution_count": 14,
   "metadata": {},
   "outputs": [
    {
     "name": "stdout",
     "output_type": "stream",
     "text": [
      "Main function\n",
      "3\n",
      "2\n",
      "4\n",
      "6\n",
      "8\n",
      "10\n",
      "Name: John, Age: 25\n"
     ]
    }
   ],
   "source": [
    "def sum(a, b):\n",
    "    return a + b\n",
    "\n",
    "def printNum(list):\n",
    "    for i in list:\n",
    "        if i % 2 == 0:\n",
    "            print(i)\n",
    "\n",
    "class User(object):\n",
    "    # name = \"Noname\", age = 0\n",
    "\n",
    "    def __init__(self):\n",
    "        self.name = \"Noname\"\n",
    "        self.age = 0\n",
    "    \n",
    "    def __init__(self, name, age):\n",
    "        self.name = name\n",
    "        self.age = age\n",
    "\n",
    "    def __str__(self):\n",
    "        return \"Name: \"+self.name+\", Age: \"+str(self.age)\n",
    "\n",
    "def __main__():\n",
    "    print(\"Main function\")\n",
    "    print(sum(1, 2))\n",
    "    printNum([1, 2, 3, 4, 5, 6, 7, 8, 9, 10])\n",
    "\n",
    "    user = User(\"John\", 25)\n",
    "    print(user)\n",
    "\n",
    "if __name__ == \"__main__\":\n",
    "    __main__()"
   ]
  },
  {
   "cell_type": "code",
   "execution_count": null,
   "metadata": {},
   "outputs": [
    {
     "name": "stdout",
     "output_type": "stream",
     "text": [
      "Before sorting:  [9, 4, 11, 6, 3, 4, 5, 1, 3, 7, 9, 14]\n",
      "After sorting:   [1, 3, 3, 4, 4, 5, 6, 7, 9, 9, 11, 14]\n",
      "Index of {value}:  10\n",
      "First increment:  [4, 11]\n"
     ]
    }
   ],
   "source": [
    "def Sort(list):\n",
    "    temp = list.copy()\n",
    "    for i in range(len(temp)-1):\n",
    "        for j in range(i+1, len(temp)):\n",
    "            if temp[i] > temp[j]:\n",
    "                t = temp[i]\n",
    "                temp[i] = temp[j]\n",
    "                temp[j] = t\n",
    "                # temp[i], temp[j] = temp[j], temp[i]\n",
    "    return temp\n",
    "\n",
    "def BinSearch(sortedlist, value):\n",
    "    left = 0\n",
    "    right = len(sortedlist) - 1\n",
    "    while left <= right:\n",
    "        mid = int((left+right)/2)\n",
    "        if sortedlist[mid] == value:\n",
    "            return mid\n",
    "        elif sortedlist[mid] > value:\n",
    "            right = mid - 1\n",
    "        else:\n",
    "            left = mid + 1\n",
    "    return -1\n",
    "\n",
    "def FirstIncreasingPart(list):\n",
    "    i, j = 0, 0\n",
    "    flag = False\n",
    "    while j<len(list):\n",
    "        if flag==False:\n",
    "            j = i\n",
    "        if list[j+1]>=list[j]:\n",
    "            j+=1\n",
    "            flag = True\n",
    "        else:\n",
    "            if i==j:\n",
    "                i+=1\n",
    "            else:\n",
    "                break\n",
    "    return list[i:j+1]\n",
    "\n",
    "def MaxIncreasingPart(list):\n",
    "    return 0\n",
    "\n",
    "def __main__():\n",
    "    list = [9, 4, 11, 6, 3, 4, 5, 1, 3, 7, 9, 14]\n",
    "    sortedlist = Sort(list)\n",
    "    print(\"Before sorting: \", list)\n",
    "    print(\"After sorting:  \", sortedlist)\n",
    "    value = 11\n",
    "    index = BinSearch(sortedlist, value)\n",
    "    print(\"Index of {value}: \", index)\n",
    "    firstinc = FirstIncreasingPart(list)\n",
    "    print(\"First increment: \", firstinc)\n",
    "\n",
    "if __name__ == \"__main__\":\n",
    "    __main__()"
   ]
  }
 ],
 "metadata": {
  "kernelspec": {
   "display_name": "Python 3",
   "language": "python",
   "name": "python3"
  },
  "language_info": {
   "codemirror_mode": {
    "name": "ipython",
    "version": 3
   },
   "file_extension": ".py",
   "mimetype": "text/x-python",
   "name": "python",
   "nbconvert_exporter": "python",
   "pygments_lexer": "ipython3",
   "version": "3.10.3"
  }
 },
 "nbformat": 4,
 "nbformat_minor": 2
}
